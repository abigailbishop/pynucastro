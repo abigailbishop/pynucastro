{
 "cells": [
  {
   "cell_type": "markdown",
   "metadata": {},
   "source": [
    "# Using RateFilter to Search Rates in a Library"
   ]
  },
  {
   "cell_type": "markdown",
   "metadata": {},
   "source": [
    "The `Library` class in `pynucastro` provides a high level interface for reading files containing one or more Reaclib rates and then filtering these rates based on user-specified criteria for the nuclei involved in the reactions. We can then use the resulting rates to build a network.\n",
    "\n",
    "This example uses a Reaclib snapshot downloaded from:\n",
    "\n",
    "https://groups.nscl.msu.edu/jina/reaclib/db/library.php?action=viewsnapshots."
   ]
  },
  {
   "cell_type": "markdown",
   "metadata": {},
   "source": [
    "## Reading a rate snapshot\n",
    "\n",
    "The `Library` class will look for the library file in the working directory or in the `pynucastro/library` subdirectory of the `pynucastro` package.\n",
    "\n",
    "When the constructor is supplied a file name, `pynucastro` will read the contents of this file and interpret them as Reaclib rates in either the Reaclib 1 or 2 formats. The `Library` then stores the rates from the file as `Rate` objects."
   ]
  },
  {
   "cell_type": "code",
   "execution_count": 1,
   "metadata": {
    "tags": [
     "nbval-skip"
    ]
   },
   "outputs": [],
   "source": [
    "%matplotlib inline\n",
    "import pynucastro as pyna"
   ]
  },
  {
   "cell_type": "code",
   "execution_count": 2,
   "metadata": {
    "tags": [
     "nbval-skip"
    ]
   },
   "outputs": [],
   "source": [
    "library_file = '20180201ReaclibV2.22'"
   ]
  },
  {
   "cell_type": "code",
   "execution_count": 3,
   "metadata": {
    "tags": [
     "nbval-skip"
    ]
   },
   "outputs": [],
   "source": [
    "mylibrary = pyna.rates.Library(library_file)"
   ]
  },
  {
   "cell_type": "markdown",
   "metadata": {},
   "source": [
    "## Filtering the Library\n",
    "\n",
    "This example introduces the `RateFilter` class which allows us to define a set of reactants and products to search for in a `Library` object.\n",
    "\n",
    "### Inexact Filtering\n",
    "\n",
    "Inexact filtering is like using wildcards: in the following example, the rate filter we define will match any rates in which $\\mathrm{^{12}C}$ is a reactant."
   ]
  },
  {
   "cell_type": "code",
   "execution_count": 4,
   "metadata": {
    "tags": [
     "nbval-skip"
    ]
   },
   "outputs": [],
   "source": [
    "c12_inexact_filter = pyna.rates.RateFilter(reactants=['c12'], exact=False)"
   ]
  },
  {
   "cell_type": "markdown",
   "metadata": {},
   "source": [
    "Once we construct a `RateFilter` object, we can apply it to our `Library` by passing it to the `Library.filter` function.\n",
    "\n",
    "`Library.filter` returns a new `Library` object containing the rates that match our `RateFilter`.\n",
    "\n",
    "We can print a `Library` to see the rates it contains. In parentheses the rate identifier is printed, showing the Reaclib rate label as well as whether the rate is forward or reverse."
   ]
  },
  {
   "cell_type": "code",
   "execution_count": 5,
   "metadata": {
    "tags": [
     "nbval-skip"
    ]
   },
   "outputs": [
    {
     "name": "stdout",
     "output_type": "stream",
     "text": [
      "c12 --> n + c11    (c12 --> n + c11 <bb92_reaclib_reverse>)\n",
      "c12 --> p + b11    (c12 --> p + b11 <nw00_reaclib_reverse>)\n",
      "c12 --> he4 + he4 + he4    (c12 --> he4 + he4 + he4 <fy05_reaclib_reverse>)\n",
      "c12 + n --> c13    (c12 + n --> c13 <ka02_reaclib>)\n",
      "c12 + p --> n13    (c12 + p --> n13 <ls09_reaclib>)\n",
      "c12 + he4 --> o16    (c12 + he4 --> o16 <nac2_reaclib>)\n",
      "c12 + n --> p + b12    (c12 + n --> p + b12 <wag_reaclib_reverse>)\n",
      "c12 + n --> he4 + be9    (c12 + n --> he4 + be9 <cf88_reaclib_reverse>)\n",
      "c12 + he4 --> n + o15    (c12 + he4 --> n + o15 <cf88_reaclib_reverse>)\n",
      "c12 + he4 --> p + n15    (c12 + he4 --> p + n15 <nacr_reaclib_reverse>)\n",
      "c12 + c12 --> n + mg23    (c12 + c12 --> n + mg23 <cf88_reaclib_reverse>)\n",
      "c12 + c12 --> p + na23    (c12 + c12 --> p + na23 <cf88_reaclib>)\n",
      "c12 + c12 --> he4 + ne20    (c12 + c12 --> he4 + ne20 <cf88_reaclib>)\n",
      "o16 + c12 --> n + si27    (o16 + c12 --> n + si27 <cf88_reaclib_reverse>)\n",
      "o16 + c12 --> p + al27    (o16 + c12 --> p + al27 <cf88_reaclib>)\n",
      "o16 + c12 --> he4 + mg24    (o16 + c12 --> he4 + mg24 <cf88_reaclib>)\n",
      "ne20 + c12 --> n + s31    (ne20 + c12 --> n + s31 <rolf_reaclib>)\n",
      "ne20 + c12 --> p + p31    (ne20 + c12 --> p + p31 <rolf_reaclib>)\n",
      "ne20 + c12 --> he4 + si28    (ne20 + c12 --> he4 + si28 <rolf_reaclib>)\n"
     ]
    }
   ],
   "source": [
    "c12_inexact_library = mylibrary.filter(c12_inexact_filter)\n",
    "print(c12_inexact_library)"
   ]
  },
  {
   "cell_type": "markdown",
   "metadata": {},
   "source": [
    "The rate identifiers above can be used to access individual `Rate` objects within a `Library` as follows:"
   ]
  },
  {
   "cell_type": "code",
   "execution_count": 6,
   "metadata": {
    "tags": [
     "nbval-skip"
    ]
   },
   "outputs": [],
   "source": [
    "cago = c12_inexact_library.get_rate('c12 + he4 --> o16 <nac2_reaclib>')"
   ]
  },
  {
   "cell_type": "code",
   "execution_count": 7,
   "metadata": {
    "tags": [
     "nbval-skip"
    ]
   },
   "outputs": [
    {
     "data": {
      "image/png": "[encoded data removed]",
      "text/plain": [
       "<Figure size 600x400 with 1 Axes>"
      ]
     },
     "metadata": {},
     "output_type": "display_data"
    }
   ],
   "source": [
    "cago.plot()"
   ]
  },
  {
   "cell_type": "markdown",
   "metadata": {},
   "source": [
    "### Exact Filtering\n",
    "\n",
    "Exact filtering is useful when you have a specific rate in mind or a specific combination of reactants or products. In the following example, we look for all rates of the form $\\mathrm{^{12}C + ^{12}C \\rightarrow \\ldots}$\n",
    "\n",
    "To use exact filtering, omit the `exact` keyword to the `RateFilter` constructor, as it is turned on by default.\n",
    "\n",
    "Exact filtering does not mean all the nuclei involved in the rate must be specified, it means that all filtering options passed to the `RateFilter` constructor are strictly applied. In this case, the filter will return rates with exactly two reactants, both of which are $\\mathrm{^{12}C}$. However, the filter places no constraint on the products or number of products in the rate."
   ]
  },
  {
   "cell_type": "code",
   "execution_count": 8,
   "metadata": {
    "tags": [
     "nbval-skip"
    ]
   },
   "outputs": [
    {
     "name": "stdout",
     "output_type": "stream",
     "text": [
      "c12 + c12 --> n + mg23    (c12 + c12 --> n + mg23 <cf88_reaclib_reverse>)\n",
      "c12 + c12 --> p + na23    (c12 + c12 --> p + na23 <cf88_reaclib>)\n",
      "c12 + c12 --> he4 + ne20    (c12 + c12 --> he4 + ne20 <cf88_reaclib>)\n"
     ]
    }
   ],
   "source": [
    "c12_exact_filter = pyna.rates.RateFilter(reactants=['c12', 'c12'])\n",
    "c12_exact_library = mylibrary.filter(c12_exact_filter)\n",
    "print(c12_exact_library)"
   ]
  },
  {
   "cell_type": "markdown",
   "metadata": {},
   "source": [
    "## Example: Building an Alpha Capture Network\n",
    "\n",
    "In the next example, we use rate filtering to iteratively construct a `Library` containing the alpha capture rates linking $\\mathrm{^{12}C}$ to $\\mathrm{^{56}Ni}$.\n",
    "\n",
    "After finding each successive link in the alpha capture chain, we call `Library.heaviest()` to find the heaviest nucleus in the filtered rates. This corresponds to the nucleus with the largest mass number, and in case of a tie between isobars, this returns the isobar with the smallest atomic number. We use this feature to find the reverse rate for each alpha capture reaction.\n",
    "\n",
    "In the example below, we add each filtered library to our alpha capture library `alpha_library`, initialized as an empty `Library`. The `Library` class supports the addition operator by returning a new library containing the rates in the two libraries we added together.\n",
    "\n",
    "This example also introduces the `max_products` keyword, which specifies we are looking for reactions producing at most `max_products` product nuclei.\n",
    "\n",
    "Similarly, the `RateFilter` constructor supports the following keywords constraining the number of reactants and products:\n",
    "\n",
    "- `min_reactants`\n",
    "- `max_reactants`\n",
    "- `min_products`\n",
    "- `max_products`\n",
    "\n",
    "Because we have omitted the argument `exact=False`, the filter constraints we apply are exact."
   ]
  },
  {
   "cell_type": "code",
   "execution_count": 9,
   "metadata": {
    "tags": [
     "nbval-skip"
    ]
   },
   "outputs": [
    {
     "name": "stdout",
     "output_type": "stream",
     "text": [
      "o16\n",
      "ne20\n",
      "mg24\n",
      "si28\n",
      "s32\n",
      "ar36\n",
      "ca40\n",
      "ti44\n",
      "cr48\n",
      "fe52\n",
      "ni56\n"
     ]
    }
   ],
   "source": [
    "alpha_library = pyna.rates.Library()\n",
    "\n",
    "capture = pyna.rates.Nucleus('he4')\n",
    "seed = pyna.rates.Nucleus('c12')\n",
    "\n",
    "while True:\n",
    "    ac_filter = pyna.rates.RateFilter(reactants=[capture, seed], max_products=1)\n",
    "    ac_library = mylibrary.filter(ac_filter)\n",
    "    alpha_library = alpha_library + ac_library\n",
    "\n",
    "    heavy = ac_library.heaviest()\n",
    "    ac_filter_inv = pyna.rates.RateFilter(reactants=[heavy], products=[capture, seed])\n",
    "    ac_inv_library = mylibrary.filter(ac_filter_inv)\n",
    "    alpha_library = alpha_library + ac_inv_library\n",
    "\n",
    "    print(heavy)\n",
    "    if heavy.A == 56:\n",
    "        break\n",
    "    else:\n",
    "        seed = heavy"
   ]
  },
  {
   "cell_type": "markdown",
   "metadata": {},
   "source": [
    "We will next print out the library we constructed, seeing that we have both forward and reverse rates for the alpha chain.\n",
    "\n",
    "Note that at this time `pynucastro` has not yet implemented nuclear partition functions, so these reverse rates are calculated only from detailed balance in the Reaclib library."
   ]
  },
  {
   "cell_type": "code",
   "execution_count": 10,
   "metadata": {
    "tags": [
     "nbval-skip"
    ]
   },
   "outputs": [
    {
     "name": "stdout",
     "output_type": "stream",
     "text": [
      "c12 + he4 --> o16    (c12 + he4 --> o16 <nac2_reaclib>)\n",
      "o16 --> he4 + c12    (o16 --> he4 + c12 <nac2_reaclib_reverse>)\n",
      "o16 + he4 --> ne20    (o16 + he4 --> ne20 <co10_reaclib>)\n",
      "ne20 --> he4 + o16    (ne20 --> he4 + o16 <co10_reaclib_reverse>)\n",
      "ne20 + he4 --> mg24    (ne20 + he4 --> mg24 <il10_reaclib>)\n",
      "mg24 --> he4 + ne20    (mg24 --> he4 + ne20 <il10_reaclib_reverse>)\n",
      "mg24 + he4 --> si28    (mg24 + he4 --> si28 <st08_reaclib>)\n",
      "si28 --> he4 + mg24    (si28 --> he4 + mg24 <st08_reaclib_reverse>)\n",
      "si28 + he4 --> s32    (si28 + he4 --> s32 <ths8_reaclib>)\n",
      "s32 --> he4 + si28    (s32 --> he4 + si28 <ths8_reaclib_reverse>)\n",
      "s32 + he4 --> ar36    (s32 + he4 --> ar36 <ths8_reaclib>)\n",
      "ar36 --> he4 + s32    (ar36 --> he4 + s32 <ths8_reaclib_reverse>)\n",
      "ar36 + he4 --> ca40    (ar36 + he4 --> ca40 <ths8_reaclib>)\n",
      "ca40 --> he4 + ar36    (ca40 --> he4 + ar36 <ths8_reaclib_reverse>)\n",
      "ca40 + he4 --> ti44    (ca40 + he4 --> ti44 <chw0_reaclib>)\n",
      "ti44 --> he4 + ca40    (ti44 --> he4 + ca40 <chw0_reaclib_reverse>)\n",
      "ti44 + he4 --> cr48    (ti44 + he4 --> cr48 <ths8_reaclib>)\n",
      "cr48 --> he4 + ti44    (cr48 --> he4 + ti44 <ths8_reaclib_reverse>)\n",
      "cr48 + he4 --> fe52    (cr48 + he4 --> fe52 <ths8_reaclib>)\n",
      "fe52 --> he4 + cr48    (fe52 --> he4 + cr48 <ths8_reaclib_reverse>)\n",
      "fe52 + he4 --> ni56    (fe52 + he4 --> ni56 <ths8_reaclib>)\n",
      "ni56 --> he4 + fe52    (ni56 --> he4 + fe52 <ths8_reaclib_reverse>)\n"
     ]
    }
   ],
   "source": [
    "print(alpha_library)"
   ]
  },
  {
   "cell_type": "markdown",
   "metadata": {
    "collapsed": true
   },
   "source": [
    "Next we can create a reaction network from our filtered alpha capture library by passing our library to a network constructor using the `libraries` keyword."
   ]
  },
  {
   "cell_type": "code",
   "execution_count": 11,
   "metadata": {
    "tags": [
     "nbval-skip"
    ]
   },
   "outputs": [],
   "source": [
    "alpha_network = pyna.networks.PythonNetwork(libraries=alpha_library)"
   ]
  },
  {
   "cell_type": "markdown",
   "metadata": {},
   "source": [
    "And finally we can print an overview of the network as well as a Z-N plot of the nuclei linked via the reactions we selected."
   ]
  },
  {
   "cell_type": "code",
   "execution_count": 12,
   "metadata": {
    "tags": [
     "nbval-skip"
    ]
   },
   "outputs": [
    {
     "name": "stdout",
     "output_type": "stream",
     "text": [
      "he4\n",
      "  consumed by:\n",
      "     c12 + he4 --> o16\n",
      "     o16 + he4 --> ne20\n",
      "     ne20 + he4 --> mg24\n",
      "     mg24 + he4 --> si28\n",
      "     si28 + he4 --> s32\n",
      "     s32 + he4 --> ar36\n",
      "     ar36 + he4 --> ca40\n",
      "     ca40 + he4 --> ti44\n",
      "     ti44 + he4 --> cr48\n",
      "     cr48 + he4 --> fe52\n",
      "     fe52 + he4 --> ni56\n",
      "  produced by:\n",
      "     o16 --> he4 + c12\n",
      "     ne20 --> he4 + o16\n",
      "     mg24 --> he4 + ne20\n",
      "     si28 --> he4 + mg24\n",
      "     s32 --> he4 + si28\n",
      "     ar36 --> he4 + s32\n",
      "     ca40 --> he4 + ar36\n",
      "     ti44 --> he4 + ca40\n",
      "     cr48 --> he4 + ti44\n",
      "     fe52 --> he4 + cr48\n",
      "     ni56 --> he4 + fe52\n",
      "\n",
      "c12\n",
      "  consumed by:\n",
      "     c12 + he4 --> o16\n",
      "  produced by:\n",
      "     o16 --> he4 + c12\n",
      "\n",
      "o16\n",
      "  consumed by:\n",
      "     o16 --> he4 + c12\n",
      "     o16 + he4 --> ne20\n",
      "  produced by:\n",
      "     c12 + he4 --> o16\n",
      "     ne20 --> he4 + o16\n",
      "\n",
      "ne20\n",
      "  consumed by:\n",
      "     ne20 --> he4 + o16\n",
      "     ne20 + he4 --> mg24\n",
      "  produced by:\n",
      "     o16 + he4 --> ne20\n",
      "     mg24 --> he4 + ne20\n",
      "\n",
      "mg24\n",
      "  consumed by:\n",
      "     mg24 --> he4 + ne20\n",
      "     mg24 + he4 --> si28\n",
      "  produced by:\n",
      "     ne20 + he4 --> mg24\n",
      "     si28 --> he4 + mg24\n",
      "\n",
      "si28\n",
      "  consumed by:\n",
      "     si28 --> he4 + mg24\n",
      "     si28 + he4 --> s32\n",
      "  produced by:\n",
      "     mg24 + he4 --> si28\n",
      "     s32 --> he4 + si28\n",
      "\n",
      "s32\n",
      "  consumed by:\n",
      "     s32 --> he4 + si28\n",
      "     s32 + he4 --> ar36\n",
      "  produced by:\n",
      "     si28 + he4 --> s32\n",
      "     ar36 --> he4 + s32\n",
      "\n",
      "ar36\n",
      "  consumed by:\n",
      "     ar36 --> he4 + s32\n",
      "     ar36 + he4 --> ca40\n",
      "  produced by:\n",
      "     s32 + he4 --> ar36\n",
      "     ca40 --> he4 + ar36\n",
      "\n",
      "ca40\n",
      "  consumed by:\n",
      "     ca40 --> he4 + ar36\n",
      "     ca40 + he4 --> ti44\n",
      "  produced by:\n",
      "     ar36 + he4 --> ca40\n",
      "     ti44 --> he4 + ca40\n",
      "\n",
      "ti44\n",
      "  consumed by:\n",
      "     ti44 --> he4 + ca40\n",
      "     ti44 + he4 --> cr48\n",
      "  produced by:\n",
      "     ca40 + he4 --> ti44\n",
      "     cr48 --> he4 + ti44\n",
      "\n",
      "cr48\n",
      "  consumed by:\n",
      "     cr48 --> he4 + ti44\n",
      "     cr48 + he4 --> fe52\n",
      "  produced by:\n",
      "     ti44 + he4 --> cr48\n",
      "     fe52 --> he4 + cr48\n",
      "\n",
      "fe52\n",
      "  consumed by:\n",
      "     fe52 --> he4 + cr48\n",
      "     fe52 + he4 --> ni56\n",
      "  produced by:\n",
      "     cr48 + he4 --> fe52\n",
      "     ni56 --> he4 + fe52\n",
      "\n",
      "ni56\n",
      "  consumed by:\n",
      "     ni56 --> he4 + fe52\n",
      "  produced by:\n",
      "     fe52 + he4 --> ni56\n",
      "\n",
      "\n"
     ]
    }
   ],
   "source": [
    "print(alpha_network.network_overview())"
   ]
  },
  {
   "cell_type": "code",
   "execution_count": 13,
   "metadata": {
    "tags": [
     "nbval-skip"
    ]
   },
   "outputs": [
    {
     "data": {
      "image/png": "[encoded data removed]",
      "text/plain": [
       "<Figure size 800x600 with 1 Axes>"
      ]
     },
     "metadata": {},
     "output_type": "display_data"
    }
   ],
   "source": [
    "alpha_network.plot()"
   ]
  }
 ],
 "metadata": {
  "celltoolbar": "Tags",
  "kernelspec": {
   "display_name": "Python 3",
   "language": "python",
   "name": "python3"
  },
  "language_info": {
   "codemirror_mode": {
    "name": "ipython",
    "version": 3
   },
   "file_extension": ".py",
   "mimetype": "text/x-python",
   "name": "python",
   "nbconvert_exporter": "python",
   "pygments_lexer": "ipython3",
   "version": "3.6.4"
  }
 },
 "nbformat": 4,
 "nbformat_minor": 2
}
